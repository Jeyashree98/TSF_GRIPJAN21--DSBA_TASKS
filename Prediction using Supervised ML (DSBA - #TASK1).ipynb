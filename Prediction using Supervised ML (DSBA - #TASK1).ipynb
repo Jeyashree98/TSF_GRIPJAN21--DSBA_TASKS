{
 "cells": [
  {
   "cell_type": "markdown",
   "metadata": {},
   "source": [
    "<H1>Prediction using Supervised ML</H1>"
   ]
  },
  {
   "cell_type": "code",
   "execution_count": 1,
   "metadata": {},
   "outputs": [],
   "source": [
    "import pandas as pd\n",
    "import numpy as np\n",
    "import matplotlib.pyplot as plt"
   ]
  },
  {
   "cell_type": "code",
   "execution_count": 2,
   "metadata": {},
   "outputs": [],
   "source": [
    "df = pd.read_csv('https://raw.githubusercontent.com/AdiPersonalWorks/Random/master/student_scores%20-%20student_scores.csv')"
   ]
  },
  {
   "cell_type": "code",
   "execution_count": 3,
   "metadata": {},
   "outputs": [
    {
     "data": {
      "text/html": [
       "<div>\n",
       "<style scoped>\n",
       "    .dataframe tbody tr th:only-of-type {\n",
       "        vertical-align: middle;\n",
       "    }\n",
       "\n",
       "    .dataframe tbody tr th {\n",
       "        vertical-align: top;\n",
       "    }\n",
       "\n",
       "    .dataframe thead th {\n",
       "        text-align: right;\n",
       "    }\n",
       "</style>\n",
       "<table border=\"1\" class=\"dataframe\">\n",
       "  <thead>\n",
       "    <tr style=\"text-align: right;\">\n",
       "      <th></th>\n",
       "      <th>Hours</th>\n",
       "      <th>Scores</th>\n",
       "    </tr>\n",
       "  </thead>\n",
       "  <tbody>\n",
       "    <tr>\n",
       "      <th>0</th>\n",
       "      <td>2.5</td>\n",
       "      <td>21</td>\n",
       "    </tr>\n",
       "    <tr>\n",
       "      <th>1</th>\n",
       "      <td>5.1</td>\n",
       "      <td>47</td>\n",
       "    </tr>\n",
       "    <tr>\n",
       "      <th>2</th>\n",
       "      <td>3.2</td>\n",
       "      <td>27</td>\n",
       "    </tr>\n",
       "    <tr>\n",
       "      <th>3</th>\n",
       "      <td>8.5</td>\n",
       "      <td>75</td>\n",
       "    </tr>\n",
       "    <tr>\n",
       "      <th>4</th>\n",
       "      <td>3.5</td>\n",
       "      <td>30</td>\n",
       "    </tr>\n",
       "  </tbody>\n",
       "</table>\n",
       "</div>"
      ],
      "text/plain": [
       "   Hours  Scores\n",
       "0    2.5      21\n",
       "1    5.1      47\n",
       "2    3.2      27\n",
       "3    8.5      75\n",
       "4    3.5      30"
      ]
     },
     "execution_count": 3,
     "metadata": {},
     "output_type": "execute_result"
    }
   ],
   "source": [
    "df.head()"
   ]
  },
  {
   "cell_type": "markdown",
   "metadata": {},
   "source": [
    "<h2>Plotting the Given Dataset</h2>"
   ]
  },
  {
   "cell_type": "code",
   "execution_count": 4,
   "metadata": {},
   "outputs": [
    {
     "data": {
      "image/png": "[encoded data removed]",
      "text/plain": [
       "<Figure size 432x288 with 1 Axes>"
      ]
     },
     "metadata": {
      "needs_background": "light"
     },
     "output_type": "display_data"
    }
   ],
   "source": [
    "x=np.array(df['Hours']).reshape(-1,1)\n",
    "y=np.array(df['Scores']).reshape(-1,1)\n",
    "plt.plot(x,y,'Pc')\n",
    "plt.xlabel('Hours')\n",
    "plt.ylabel('Score')\n",
    "plt.title('Original (Hour-Score) Datapoints')\n",
    "#plt.legend()\n",
    "plt.show()"
   ]
  },
  {
   "cell_type": "markdown",
   "metadata": {},
   "source": [
    "<h2>Training the Data using Scikit Learn Linear Regression Model</h2>"
   ]
  },
  {
   "cell_type": "code",
   "execution_count": 5,
   "metadata": {},
   "outputs": [],
   "source": [
    "from sklearn.model_selection import train_test_split\n",
    "from sklearn.linear_model import LinearRegression\n",
    "from sklearn.metrics import mean_squared_error\n",
    "from sklearn.metrics import r2_score\n",
    "from math import sqrt"
   ]
  },
  {
   "cell_type": "code",
   "execution_count": 6,
   "metadata": {},
   "outputs": [
    {
     "name": "stdout",
     "output_type": "stream",
     "text": [
      "The count of Training and Testing Data is:\n",
      " Training Count: 17 \n",
      " Tesing Count:  8\n",
      "The Intercept and Coefficient of fitted Regression Line is:\n",
      " Intercept:  [0.01087255] \n",
      " Coef:  [[9.99788035]]\n"
     ]
    }
   ],
   "source": [
    "train_x,test_x,train_y,test_y = train_test_split(x,y,test_size=0.3,shuffle=True)\n",
    "LR = LinearRegression().fit(train_x,train_y)\n",
    "print('The count of Training and Testing Data is:\\n','Training Count:',len(train_x),'\\n','Tesing Count: ',len(test_x))\n",
    "print('The Intercept and Coefficient of fitted Regression Line is:\\n','Intercept: ',LR.intercept_,'\\n','Coef: ',LR.coef_)"
   ]
  },
  {
   "cell_type": "code",
   "execution_count": 7,
   "metadata": {},
   "outputs": [
    {
     "data": {
      "text/plain": [
       "0.9490819543667074"
      ]
     },
     "execution_count": 7,
     "metadata": {},
     "output_type": "execute_result"
    }
   ],
   "source": [
    "LR.score(train_x,train_y)"
   ]
  },
  {
   "cell_type": "markdown",
   "metadata": {},
   "source": [
    "<h2>Predicting the Test Set</h2>"
   ]
  },
  {
   "cell_type": "code",
   "execution_count": 8,
   "metadata": {},
   "outputs": [
    {
     "name": "stdout",
     "output_type": "stream",
     "text": [
      "the predicted score of students depending upon their study hours is:\n",
      "\n",
      " The Estimated Score for a student who study for 8.90 Hours is 88.992\n",
      " The Estimated Score for a student who study for 2.70 Hours is 27.005\n",
      " The Estimated Score for a student who study for 5.90 Hours is 58.998\n",
      " The Estimated Score for a student who study for 6.90 Hours is 68.996\n",
      " The Estimated Score for a student who study for 7.40 Hours is 73.995\n",
      " The Estimated Score for a student who study for 3.30 Hours is 33.004\n",
      " The Estimated Score for a student who study for 1.10 Hours is 11.009\n",
      " The Estimated Score for a student who study for 1.90 Hours is 19.007\n",
      "\n",
      "\n"
     ]
    }
   ],
   "source": [
    "ypred = LR.predict(test_x)\n",
    "print('the predicted score of students depending upon their study hours is:\\n')\n",
    "for i,j in zip(test_x,ypred):\n",
    "    print(' The Estimated Score for a student who study for {0:.2f} Hours is {1:.3f}'.format(i[0],j[0]))\n",
    "print('\\n')"
   ]
  },
  {
   "cell_type": "markdown",
   "metadata": {},
   "source": [
    "<h2>Evaluating the Model</h2>"
   ]
  },
  {
   "cell_type": "code",
   "execution_count": 9,
   "metadata": {},
   "outputs": [
    {
     "name": "stdout",
     "output_type": "stream",
     "text": [
      "Evaluation:\n",
      "\n",
      "The RMSE is:  5.807739964727157 \n",
      "The RSquared is:  0.9500933999800047\n"
     ]
    }
   ],
   "source": [
    "rmse = sqrt(mean_squared_error(test_y, ypred))\n",
    "r2score = r2_score(test_y,ypred)\n",
    "print('Evaluation:\\n')\n",
    "print('The RMSE is: ',rmse,'\\nThe RSquared is: ',r2score)"
   ]
  },
  {
   "cell_type": "markdown",
   "metadata": {},
   "source": [
    "<h2>Plotting the Estimated value accross Actual value</h2>"
   ]
  },
  {
   "cell_type": "code",
   "execution_count": 10,
   "metadata": {},
   "outputs": [
    {
     "data": {
      "image/png": "[encoded data removed]",
      "text/plain": [
       "<Figure size 864x360 with 1 Axes>"
      ]
     },
     "metadata": {
      "needs_background": "light"
     },
     "output_type": "display_data"
    }
   ],
   "source": [
    "plt.rcParams[\"figure.figsize\"] = (12,5)\n",
    "\n",
    "arrx = np.array([])\n",
    "arrx = np.append(np.append(arrx,range(1,10)),np.array([9.25,10]))\n",
    "\n",
    "arry = np.array([])\n",
    "a=(LR.intercept_+LR.coef_*9.25)[0][0]\n",
    "b=(LR.intercept_+LR.coef_*10)[0][0]\n",
    "arry = np.array([a,b])\n",
    "\n",
    "\n",
    "plt.plot(test_x,test_y,'sg',label='Actual')\n",
    "plt.plot(test_x,ypred,'sr',label='Predicted')\n",
    "plt.plot(test_x,ypred,'k',label='Regression Line y={0:.2f}+{1:.2f}x'.format(LR.intercept_[0],LR.coef_[0][0]))\n",
    "\n",
    "#plt.xticks(arrx)\n",
    "#plt.yticks(np.arange(min(arry), max(arry)+1, 1.0))\n",
    "plt.xlabel('HOURS')\n",
    "plt.ylabel('SCORE')\n",
    "plt.title('Student Score Prediction Using Linear Regression')\n",
    "plt.legend()\n",
    "plt.show()"
   ]
  },
  {
   "cell_type": "markdown",
   "metadata": {},
   "source": [
    "<h2>Question: What will be predicted score if a student studies for 9.25 hrs/ day?</h2>"
   ]
  },
  {
   "cell_type": "code",
   "execution_count": 11,
   "metadata": {},
   "outputs": [
    {
     "data": {
      "image/png": "[encoded data removed]",
      "text/plain": [
       "<Figure size 720x360 with 1 Axes>"
      ]
     },
     "metadata": {
      "needs_background": "light"
     },
     "output_type": "display_data"
    }
   ],
   "source": [
    "plt.rcParams[\"figure.figsize\"] = (10,5)\n",
    "arrx = np.array([9.25,10])\n",
    "arrx=np.append(test_x,arrx)\n",
    "\n",
    "a=(LR.intercept_+LR.coef_*9.25)[0][0]\n",
    "b=(LR.intercept_+LR.coef_*10)[0][0]\n",
    "arry = np.array([a,b])\n",
    "arry=np.append(ypred,arry)\n",
    "\n",
    "plt.plot(arrx,arry,'k',label='Regression Line y={0:.2f}+{1:.2f}x'.format(LR.intercept_[0],LR.coef_[0][0]))\n",
    "plt.plot(np.array([9.25]),np.array(a),'Xr',markersize=12,label='Student studied for 9.25 Hrs estimated Score = {0:.3f}'.format(a))\n",
    "plt.axvline(x=[9.25],ymin=0.0,ymax=a,linestyle='--',color='r')\n",
    "plt.axhline(y=[a],xmin=0.0,xmax=9.25,linestyle='--',color='r')\n",
    "\n",
    "plt.xlabel('HOURS')\n",
    "plt.ylabel('SCORE')\n",
    "plt.title('Student Score Prediction Using Linear Regression')\n",
    "plt.legend()\n",
    "plt.show()"
   ]
  },
  {
   "cell_type": "code",
   "execution_count": null,
   "metadata": {},
   "outputs": [],
   "source": []
  }
 ],
 "metadata": {
  "kernelspec": {
   "display_name": "Python 3",
   "language": "python",
   "name": "python3"
  },
  "language_info": {
   "codemirror_mode": {
    "name": "ipython",
    "version": 3
   },
   "file_extension": ".py",
   "mimetype": "text/x-python",
   "name": "python",
   "nbconvert_exporter": "python",
   "pygments_lexer": "ipython3",
   "version": "3.7.3"
  }
 },
 "nbformat": 4,
 "nbformat_minor": 2
}
